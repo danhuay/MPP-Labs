{
 "cells": [
  {
   "cell_type": "code",
   "execution_count": 1,
   "metadata": {},
   "outputs": [],
   "source": [
    "import pandas as pd\n",
    "import numpy as np\n",
    "import matplotlib.pyplot as plt\n",
    "plt.style.use('dark_background')\n",
    "pd.set_option('display.max_columns', 500)"
   ]
  },
  {
   "cell_type": "code",
   "execution_count": 60,
   "metadata": {},
   "outputs": [],
   "source": [
    "def DataPrepPipeline(filename):\n",
    "    df = pd.read_csv(filename)\n",
    "    \n",
    "    # replace NaN value with column mean\n",
    "    for col in df:\n",
    "        if df[col].isnull().sum() > 0:\n",
    "            df[col].fillna(value=df[col].mean(), inplace=True)\n",
    "    \n",
    "    # convert categorical variables to dummies variables\n",
    "    dummy_lst=[]\n",
    "    for col in df:\n",
    "        if df[col].dtypes == 'object':\n",
    "            dummy_lst.append(col)\n",
    "    train_set = pd.get_dummies(df, columns=dummy_lst)\n",
    "    \n",
    "    return train_set"
   ]
  },
  {
   "cell_type": "code",
   "execution_count": 84,
   "metadata": {},
   "outputs": [],
   "source": [
    "def RFRegTrain(filename, targetfile):\n",
    "    # load the data\n",
    "    df = DataPrepPipeline(filename)\n",
    "    df_labels = pd.read_csv(targetfile)\n",
    "    df = df.merge(df_labels, on='row_id')\n",
    "    \n",
    "    # train_test_split\n",
    "    target='poverty_rate'\n",
    "    y = train_set[target]\n",
    "    X = train_set.drop(labels = ['row_id', target], axis=1)\n",
    "    \n",
    "    from sklearn.model_selection import train_test_split\n",
    "    X_train, X_test, y_train, y_test = train_test_split(\n",
    "        X, y, test_size=0.33)\n",
    "    \n",
    "    # RF Regressor\n",
    "    from sklearn.ensemble import RandomForestRegressor\n",
    "    reg = RandomForestRegressor(n_estimators=500, verbose=True)\n",
    "    reg.fit(X_train, y_train)\n",
    "    print('RF Model Trained!')\n",
    "    \n",
    "    from sklearn.ensemble import GradientBoostingRegressor\n",
    "    gb_reg = GradientBoostingRegressor(n_estimators=500, verbose=True)\n",
    "    gb_reg.fit(X_train, y_train)\n",
    "    print('GB Model Trained!')\n",
    "    \n",
    "    # RMSE\n",
    "    from sklearn.metrics import mean_squared_error\n",
    "    print('The RF RMSE score is %.2f' % np.sqrt(mean_squared_error(y_test, reg.predict(X_test))))\n",
    "    print('The GB RMSE score is %.2f' % np.sqrt(mean_squared_error(y_test, gb_reg.predict(X_test))))\n",
    "       \n",
    "    return reg, gb_reg"
   ]
  },
  {
   "cell_type": "code",
   "execution_count": 86,
   "metadata": {},
   "outputs": [
    {
     "name": "stderr",
     "output_type": "stream",
     "text": [
      "[Parallel(n_jobs=1)]: Done 500 out of 500 | elapsed:   18.7s finished\n"
     ]
    },
    {
     "name": "stdout",
     "output_type": "stream",
     "text": [
      "RF Model Trained!\n",
      "      Iter       Train Loss   Remaining Time \n",
      "         1          39.6198            3.00s\n",
      "         2          35.1774            3.25s\n",
      "         3          31.4448            3.16s\n",
      "         4          28.2972            2.98s\n",
      "         5          25.6384            3.08s\n",
      "         6          23.3585            3.05s\n",
      "         7          21.4309            3.04s\n",
      "         8          19.7803            3.08s\n",
      "         9          18.3472            3.06s\n",
      "        10          17.1529            3.10s\n",
      "        20          10.6973            2.86s\n",
      "        30           8.5229            2.75s\n",
      "        40           7.3106            2.61s\n",
      "        50           6.5342            2.43s\n",
      "        60           6.0104            2.32s\n",
      "        70           5.5907            2.22s\n",
      "        80           5.2813            2.12s\n",
      "        90           5.0254            2.02s\n",
      "       100           4.7805            1.95s\n",
      "       200           3.1584            1.37s\n",
      "       300           2.2822            0.90s\n",
      "       400           1.6873            0.45s\n",
      "       500           1.3029            0.00s\n",
      "GB Model Trained!\n",
      "The RF RMSE score is 2.57\n",
      "The GB RMSE score is 2.56\n"
     ]
    },
    {
     "name": "stderr",
     "output_type": "stream",
     "text": [
      "[Parallel(n_jobs=1)]: Done 500 out of 500 | elapsed:    0.0s finished\n"
     ]
    }
   ],
   "source": [
    "reg, gb_reg = RFRegTrain('train_values.csv', 'train_labels.csv')"
   ]
  },
  {
   "cell_type": "code",
   "execution_count": 88,
   "metadata": {},
   "outputs": [],
   "source": [
    "test_set = DataPrepPipeline('test_values.csv')\n",
    "X_test = test_set.drop('row_id', axis=1)\n",
    "\n",
    "output = pd.DataFrame(test_set['row_id'])\n",
    "output['poverty_rate'] = gb_reg.predict(X_test)"
   ]
  },
  {
   "cell_type": "code",
   "execution_count": 89,
   "metadata": {},
   "outputs": [],
   "source": [
    "output.to_csv('output.csv', index=False)\n",
    "\n",
    "# Final: 85 PTS"
   ]
  }
 ],
 "metadata": {
  "kernelspec": {
   "display_name": "Python 3",
   "language": "python",
   "name": "python3"
  },
  "language_info": {
   "codemirror_mode": {
    "name": "ipython",
    "version": 3
   },
   "file_extension": ".py",
   "mimetype": "text/x-python",
   "name": "python",
   "nbconvert_exporter": "python",
   "pygments_lexer": "ipython3",
   "version": "3.6.3"
  }
 },
 "nbformat": 4,
 "nbformat_minor": 2
}
