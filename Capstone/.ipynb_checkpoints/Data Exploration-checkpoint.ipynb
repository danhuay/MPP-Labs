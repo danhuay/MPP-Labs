{
 "cells": [
  {
   "cell_type": "code",
   "execution_count": 3,
   "metadata": {},
   "outputs": [],
   "source": [
    "import pandas as pd\n",
    "import numpy as np\n",
    "import matplotlib.pyplot as plt\n",
    "plt.style.use('dark_background')\n",
    "pd.set_option('display.max_columns', 500)"
   ]
  },
  {
   "cell_type": "code",
   "execution_count": 5,
   "metadata": {},
   "outputs": [],
   "source": [
    "df = pd.read_csv('train_values.csv')\n",
    "df_labels = pd.read_csv('train_labels.csv')"
   ]
  },
  {
   "cell_type": "code",
   "execution_count": 20,
   "metadata": {},
   "outputs": [],
   "source": [
    "df = df.merge(df_labels, on='row_id')"
   ]
  },
  {
   "cell_type": "code",
   "execution_count": 26,
   "metadata": {},
   "outputs": [
    {
     "data": {
      "text/html": [
       "<div>\n",
       "<style scoped>\n",
       "    .dataframe tbody tr th:only-of-type {\n",
       "        vertical-align: middle;\n",
       "    }\n",
       "\n",
       "    .dataframe tbody tr th {\n",
       "        vertical-align: top;\n",
       "    }\n",
       "\n",
       "    .dataframe thead th {\n",
       "        text-align: right;\n",
       "    }\n",
       "</style>\n",
       "<table border=\"1\" class=\"dataframe\">\n",
       "  <thead>\n",
       "    <tr style=\"text-align: right;\">\n",
       "      <th></th>\n",
       "      <th>poverty_rate</th>\n",
       "    </tr>\n",
       "    <tr>\n",
       "      <th>econ__economic_typology</th>\n",
       "      <th></th>\n",
       "    </tr>\n",
       "  </thead>\n",
       "  <tbody>\n",
       "    <tr>\n",
       "      <th>Farm-dependent</th>\n",
       "      <td>13.60</td>\n",
       "    </tr>\n",
       "    <tr>\n",
       "      <th>Federal/State government-dependent</th>\n",
       "      <td>19.35</td>\n",
       "    </tr>\n",
       "    <tr>\n",
       "      <th>Manufacturing-dependent</th>\n",
       "      <td>15.50</td>\n",
       "    </tr>\n",
       "    <tr>\n",
       "      <th>Mining-dependent</th>\n",
       "      <td>16.10</td>\n",
       "    </tr>\n",
       "    <tr>\n",
       "      <th>Nonspecialized</th>\n",
       "      <td>16.50</td>\n",
       "    </tr>\n",
       "    <tr>\n",
       "      <th>Recreation</th>\n",
       "      <td>13.90</td>\n",
       "    </tr>\n",
       "  </tbody>\n",
       "</table>\n",
       "</div>"
      ],
      "text/plain": [
       "                                    poverty_rate\n",
       "econ__economic_typology                         \n",
       "Farm-dependent                             13.60\n",
       "Federal/State government-dependent         19.35\n",
       "Manufacturing-dependent                    15.50\n",
       "Mining-dependent                           16.10\n",
       "Nonspecialized                             16.50\n",
       "Recreation                                 13.90"
      ]
     },
     "execution_count": 26,
     "metadata": {},
     "output_type": "execute_result"
    }
   ],
   "source": [
    "# Economic Typology vs Poverty Rate\n",
    "df.loc[:, ['econ__economic_typology', 'poverty_rate']].groupby('econ__economic_typology').median()"
   ]
  },
  {
   "cell_type": "code",
   "execution_count": 32,
   "metadata": {},
   "outputs": [
    {
     "data": {
      "text/plain": [
       "area__urban_influence\n",
       "Large-in a metro area with at least 1 million residents or more                                       11.90\n",
       "Noncore not adjacent to a metro/micro area and contains a town of 2,500  or more residents            13.50\n",
       "Noncore adjacent to micro area and does not contain a town of at least 2,500 residents                14.55\n",
       "Noncore not adjacent to a metro/micro area and does not contain a town of at least 2,500 residents    14.90\n",
       "Small-in a metro area with fewer than 1 million residents                                             15.50\n",
       "Noncore adjacent to a large metro area                                                                15.80\n",
       "Noncore adjacent to a small metro and does not contain a town of at least 2,500 residents             16.10\n",
       "Micropolitan not adjacent to a metro area                                                             16.60\n",
       "Micropolitan adjacent to a large metro area                                                           16.80\n",
       "Micropolitan adjacent to a small metro area                                                           17.70\n",
       "Noncore adjacent to micro area and contains a town of 2,500-19,999 residents                          18.25\n",
       "Noncore adjacent to a small metro with town of at least 2,500 residents                               18.90\n",
       "Name: poverty_rate, dtype: float64"
      ]
     },
     "execution_count": 32,
     "metadata": {},
     "output_type": "execute_result"
    }
   ],
   "source": [
    "# Poverty Rate by Urban Influence\n",
    "df.groupby('area__urban_influence').median()['poverty_rate'].sort_values()"
   ]
  },
  {
   "cell_type": "code",
   "execution_count": 48,
   "metadata": {},
   "outputs": [],
   "source": [
    "# Poverty Rate for Metro Counties\n",
    "df['rucc_code'] = df.area__rucc.str.split().apply(lambda x: x[0])\n",
    "df.loc[:, ['rucc_code', 'poverty_rate']].groupby('rucc_code').std()"
   ]
  },
  {
   "cell_type": "code",
   "execution_count": 58,
   "metadata": {},
   "outputs": [
    {
     "data": {
      "text/html": [
       "<div>\n",
       "<style scoped>\n",
       "    .dataframe tbody tr th:only-of-type {\n",
       "        vertical-align: middle;\n",
       "    }\n",
       "\n",
       "    .dataframe tbody tr th {\n",
       "        vertical-align: top;\n",
       "    }\n",
       "\n",
       "    .dataframe thead th {\n",
       "        text-align: right;\n",
       "    }\n",
       "</style>\n",
       "<table border=\"1\" class=\"dataframe\">\n",
       "  <thead>\n",
       "    <tr style=\"text-align: right;\">\n",
       "      <th></th>\n",
       "      <th>poverty_rate</th>\n",
       "      <th>health__pct_adult_obesity</th>\n",
       "      <th>health__pct_adult_smoking</th>\n",
       "      <th>health__pct_diabetes</th>\n",
       "      <th>health__pct_low_birthweight</th>\n",
       "      <th>health__pct_excessive_drinking</th>\n",
       "      <th>health__pct_physical_inacticity</th>\n",
       "    </tr>\n",
       "  </thead>\n",
       "  <tbody>\n",
       "    <tr>\n",
       "      <th>poverty_rate</th>\n",
       "      <td>1.000000</td>\n",
       "      <td>0.444293</td>\n",
       "      <td>0.395457</td>\n",
       "      <td>0.537038</td>\n",
       "      <td>0.565456</td>\n",
       "      <td>-0.353254</td>\n",
       "      <td>0.437680</td>\n",
       "    </tr>\n",
       "    <tr>\n",
       "      <th>health__pct_adult_obesity</th>\n",
       "      <td>0.444293</td>\n",
       "      <td>1.000000</td>\n",
       "      <td>0.408590</td>\n",
       "      <td>0.701658</td>\n",
       "      <td>0.357605</td>\n",
       "      <td>-0.241194</td>\n",
       "      <td>0.681612</td>\n",
       "    </tr>\n",
       "    <tr>\n",
       "      <th>health__pct_adult_smoking</th>\n",
       "      <td>0.395457</td>\n",
       "      <td>0.408590</td>\n",
       "      <td>1.000000</td>\n",
       "      <td>0.435922</td>\n",
       "      <td>0.238014</td>\n",
       "      <td>-0.083865</td>\n",
       "      <td>0.491223</td>\n",
       "    </tr>\n",
       "    <tr>\n",
       "      <th>health__pct_diabetes</th>\n",
       "      <td>0.537038</td>\n",
       "      <td>0.701658</td>\n",
       "      <td>0.435922</td>\n",
       "      <td>1.000000</td>\n",
       "      <td>0.487236</td>\n",
       "      <td>-0.378496</td>\n",
       "      <td>0.671949</td>\n",
       "    </tr>\n",
       "    <tr>\n",
       "      <th>health__pct_low_birthweight</th>\n",
       "      <td>0.565456</td>\n",
       "      <td>0.357605</td>\n",
       "      <td>0.238014</td>\n",
       "      <td>0.487236</td>\n",
       "      <td>1.000000</td>\n",
       "      <td>-0.382610</td>\n",
       "      <td>0.412024</td>\n",
       "    </tr>\n",
       "    <tr>\n",
       "      <th>health__pct_excessive_drinking</th>\n",
       "      <td>-0.353254</td>\n",
       "      <td>-0.241194</td>\n",
       "      <td>-0.083865</td>\n",
       "      <td>-0.378496</td>\n",
       "      <td>-0.382610</td>\n",
       "      <td>1.000000</td>\n",
       "      <td>-0.339194</td>\n",
       "    </tr>\n",
       "    <tr>\n",
       "      <th>health__pct_physical_inacticity</th>\n",
       "      <td>0.437680</td>\n",
       "      <td>0.681612</td>\n",
       "      <td>0.491223</td>\n",
       "      <td>0.671949</td>\n",
       "      <td>0.412024</td>\n",
       "      <td>-0.339194</td>\n",
       "      <td>1.000000</td>\n",
       "    </tr>\n",
       "  </tbody>\n",
       "</table>\n",
       "</div>"
      ],
      "text/plain": [
       "                                 poverty_rate  health__pct_adult_obesity  \\\n",
       "poverty_rate                         1.000000                   0.444293   \n",
       "health__pct_adult_obesity            0.444293                   1.000000   \n",
       "health__pct_adult_smoking            0.395457                   0.408590   \n",
       "health__pct_diabetes                 0.537038                   0.701658   \n",
       "health__pct_low_birthweight          0.565456                   0.357605   \n",
       "health__pct_excessive_drinking      -0.353254                  -0.241194   \n",
       "health__pct_physical_inacticity      0.437680                   0.681612   \n",
       "\n",
       "                                 health__pct_adult_smoking  \\\n",
       "poverty_rate                                      0.395457   \n",
       "health__pct_adult_obesity                         0.408590   \n",
       "health__pct_adult_smoking                         1.000000   \n",
       "health__pct_diabetes                              0.435922   \n",
       "health__pct_low_birthweight                       0.238014   \n",
       "health__pct_excessive_drinking                   -0.083865   \n",
       "health__pct_physical_inacticity                   0.491223   \n",
       "\n",
       "                                 health__pct_diabetes  \\\n",
       "poverty_rate                                 0.537038   \n",
       "health__pct_adult_obesity                    0.701658   \n",
       "health__pct_adult_smoking                    0.435922   \n",
       "health__pct_diabetes                         1.000000   \n",
       "health__pct_low_birthweight                  0.487236   \n",
       "health__pct_excessive_drinking              -0.378496   \n",
       "health__pct_physical_inacticity              0.671949   \n",
       "\n",
       "                                 health__pct_low_birthweight  \\\n",
       "poverty_rate                                        0.565456   \n",
       "health__pct_adult_obesity                           0.357605   \n",
       "health__pct_adult_smoking                           0.238014   \n",
       "health__pct_diabetes                                0.487236   \n",
       "health__pct_low_birthweight                         1.000000   \n",
       "health__pct_excessive_drinking                     -0.382610   \n",
       "health__pct_physical_inacticity                     0.412024   \n",
       "\n",
       "                                 health__pct_excessive_drinking  \\\n",
       "poverty_rate                                          -0.353254   \n",
       "health__pct_adult_obesity                             -0.241194   \n",
       "health__pct_adult_smoking                             -0.083865   \n",
       "health__pct_diabetes                                  -0.378496   \n",
       "health__pct_low_birthweight                           -0.382610   \n",
       "health__pct_excessive_drinking                         1.000000   \n",
       "health__pct_physical_inacticity                       -0.339194   \n",
       "\n",
       "                                 health__pct_physical_inacticity  \n",
       "poverty_rate                                            0.437680  \n",
       "health__pct_adult_obesity                               0.681612  \n",
       "health__pct_adult_smoking                               0.491223  \n",
       "health__pct_diabetes                                    0.671949  \n",
       "health__pct_low_birthweight                             0.412024  \n",
       "health__pct_excessive_drinking                         -0.339194  \n",
       "health__pct_physical_inacticity                         1.000000  "
      ]
     },
     "execution_count": 58,
     "metadata": {},
     "output_type": "execute_result"
    }
   ],
   "source": [
    "# Health Indicators vs Poverty Rate\n",
    "subset_cols = ['poverty_rate']\n",
    "for col in df:\n",
    "    if col.startswith('health__pct'):\n",
    "        subset_cols.append(col)\n",
    "\n",
    "df[subset_cols].corr()"
   ]
  },
  {
   "cell_type": "code",
   "execution_count": 67,
   "metadata": {},
   "outputs": [
    {
     "data": {
      "text/plain": [
       "rucc_code  isElderly\n",
       "Metro      False        14.30\n",
       "           True         14.70\n",
       "Nonmetro   False        18.95\n",
       "           True         15.60\n",
       "Name: poverty_rate, dtype: float64"
      ]
     },
     "execution_count": 67,
     "metadata": {},
     "output_type": "execute_result"
    }
   ],
   "source": [
    "# Age and Urban Category vs Poverty Rate\n",
    "aged_65_pct_median = df.demo__pct_aged_65_years_and_older.median()\n",
    "df['isElderly'] = df.demo__pct_aged_65_years_and_older > aged_65_pct_median\n",
    "df.groupby(['rucc_code', 'isElderly']).median()['poverty_rate']"
   ]
  }
 ],
 "metadata": {
  "kernelspec": {
   "display_name": "Python 3",
   "language": "python",
   "name": "python3"
  },
  "language_info": {
   "codemirror_mode": {
    "name": "ipython",
    "version": 3
   },
   "file_extension": ".py",
   "mimetype": "text/x-python",
   "name": "python",
   "nbconvert_exporter": "python",
   "pygments_lexer": "ipython3",
   "version": "3.6.3"
  }
 },
 "nbformat": 4,
 "nbformat_minor": 2
}
